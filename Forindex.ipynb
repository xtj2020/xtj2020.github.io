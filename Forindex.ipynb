{
 "cells": [
  {
   "cell_type": "code",
   "execution_count": 1,
   "metadata": {},
   "outputs": [],
   "source": [
    "import os"
   ]
  },
  {
   "cell_type": "code",
   "execution_count": null,
   "metadata": {},
   "outputs": [],
   "source": [
    "def strToFile(fitStr):\n",
    "    "
   ]
  },
  {
   "cell_type": "markdown",
   "metadata": {},
   "source": []
  },
  {
   "cell_type": "code",
   "execution_count": 6,
   "metadata": {},
   "outputs": [
    {
     "data": {
      "text/plain": [
       "0.5377358490566038"
      ]
     },
     "execution_count": 6,
     "metadata": {},
     "output_type": "execute_result"
    }
   ],
   "source": [
    "57/(57+49)"
   ]
  },
  {
   "cell_type": "code",
   "execution_count": 9,
   "metadata": {},
   "outputs": [
    {
     "data": {
      "text/plain": [
       "0.902970297029703"
      ]
     },
     "execution_count": 9,
     "metadata": {},
     "output_type": "execute_result"
    }
   ],
   "source": [
    "114/(114+49*0.25)"
   ]
  },
  {
   "cell_type": "code",
   "execution_count": null,
   "metadata": {},
   "outputs": [],
   "source": [
    "# %load /Users/xtj2020/notebook/labortory/functionBook.py\n",
    "## 获取迭代器的长## 获取迭代器的长度\n",
    "def get_length(generator):\n",
    "    if hasattr(generator,\"__len__\"):\n",
    "        return len(generator)\n",
    "    else:\n",
    "        return sum(1 for _ in generator)\n",
    "    \n",
    "    \n",
    "##图像的去噪 \n",
    "def cut_pic(read_file): \n",
    "\"\"\"\n",
    "通过去噪的方式来实现对\n",
    "\n",
    "\"\"\"\n",
    "    img = cv2.imread(read_file)   \n",
    "    h, w, _ = img.shape\n",
    "\n",
    "    GrayImage = cv2.cvtColor(img,cv2.COLOR_BGR2GRAY) #图片灰度化处理\n",
    "    ret,binary = cv2.threshold(GrayImage,15,255,cv2.THRESH_BINARY) #图片二值化,灰度值大于40赋值255，反之0\n",
    "    threshold = 10   #噪点阈值\n",
    "    contours,hierarch=cv2.findContours(binary,cv2.RETR_EXTERNAL,cv2.CHAIN_APPROX_NONE)\n",
    "\n",
    "    # 直接填充二值图\n",
    "    for i in range(len(contours)):\n",
    "        area = cv2.contourArea(contours[i])          #计算轮廓所占面积\n",
    "        if area < threshold:                         #将area小于阈值区域填充背景色\n",
    "            cv2.drawContours(binary, [contours[i]],-1, 0, thickness=-1)     #原始图片背景0\n",
    "            continue\n",
    "\n",
    "    #     print(binary.shape,end=' ')\n",
    "    #找到填充后轮廓的边界\n",
    "    #找到所有目标点 横坐标、纵坐标\n",
    "    edges_x,edges_y = np.where(binary==255)\n",
    "\n",
    "    top = min(edges_x)                 #上边界\n",
    "    bottom = max(edges_x)              #下边界\n",
    "    height=  bottom  - top               #高度\n",
    "\n",
    "    left = min(edges_y)             #底部\n",
    "    right = max(edges_y)                #左边界\n",
    "    width = right - left                #右边界\n",
    "    #返回剪切图\n",
    "    return img[top:top+height,left:left+width]\n",
    "\n",
    "def smaller_pic(i):\n",
    "    \"\"\"\n",
    "    实现对图片的缩小。输入为\n",
    "    \"\"\"\n",
    "    img = \"/home/xtu_conda/xtjdata/RF2021//Training_Set/classedPiexl/1424/\"+str(i)\n",
    "    new_path = \"/home/xtu_conda/xtjdata/small-RF/originData/\"+str(i)\n",
    "    img_src = cv2.imread(img)\n",
    "    img_result1 = cv2.resize(img_src, (0, 0), fx=0.25, fy=0.25, interpolation=cv2.INTER_LINEAR)\n",
    "    shape_list.append(img_result1.shape)\n",
    "    image = Image.fromarray(cv2.cvtColor(img_result1,cv2.COLOR_BGR2RGB))    \n",
    "    image.save(new_path)\n",
    "    return shape_list"
   ]
  },
  {
   "cell_type": "markdown",
   "metadata": {},
   "source": [
    "{\n",
    "    \"sites\": [\n",
    "    { \"name\":\"菜鸟教程\" , \"url\":\"www.runoob.com\" }, \n",
    "    { \"name\":\"google\" , \"url\":\"www.google.com\" }, \n",
    "    { \"name\":\"微博\" , \"url\":\"www.weibo.com\" }\n",
    "    ]\n",
    "}"
   ]
  }
 ],
 "metadata": {
  "hide_input": false,
  "kernelspec": {
   "display_name": "Python [conda env:notebook] *",
   "language": "python",
   "name": "conda-env-notebook-py"
  },
  "language_info": {
   "codemirror_mode": {
    "name": "ipython",
    "version": 3
   },
   "file_extension": ".py",
   "mimetype": "text/x-python",
   "name": "python",
   "nbconvert_exporter": "python",
   "pygments_lexer": "ipython3",
   "version": "3.7.9"
  },
  "toc": {
   "base_numbering": 1,
   "nav_menu": {},
   "number_sections": true,
   "sideBar": true,
   "skip_h1_title": false,
   "title_cell": "Table of Contents",
   "title_sidebar": "Contents",
   "toc_cell": false,
   "toc_position": {},
   "toc_section_display": true,
   "toc_window_display": false
  }
 },
 "nbformat": 4,
 "nbformat_minor": 4
}
