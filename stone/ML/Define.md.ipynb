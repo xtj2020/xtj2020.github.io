{
 "cells": [
  {
   "cell_type": "markdown",
   "id": "numeric-scholarship",
   "metadata": {},
   "source": [
    "# 基本概念\n",
    "\n",
    "\n",
    "### 数据集的概念\n",
    "data set:记录的集合 \\\n",
    "instance/sample:每条记录是关于一个事件或者对象的样本 \\\n",
    "attribute value:属性或特征表示事件或者对象在某一方面的表现或性质的事项。\n",
    "\n",
    "\n",
    "\n",
    "### 数据集的样本表示：\n",
    "\n",
    "### 训练\n",
    "从样本中学习到模型的过程称为“学习”或“训练”。\n",
    "\n",
    "验证集用来调整超参数，判断是否过拟合，多次使用。\n",
    "\n",
    "学得模型后，使用其进行预测称为“测试”。\n",
    "\n",
    "\n",
    "### 任务类型\n",
    "标签：拥有标签的示例叫样例\n",
    "用$(x_i,y_i)$来表示第i个样例，y为$y_i$的集合，y称为标记空间或者输出空间\n",
    "\n",
    "离散的$\\rightarrow$分类问题，连续的$\\rightarrow$回归问题\n",
    "\n",
    "二分类问题，多分类问题\n"
   ]
  }
 ],
 "metadata": {
  "kernelspec": {
   "display_name": "Python [conda env:notebook] *",
   "language": "python",
   "name": "conda-env-notebook-py"
  },
  "language_info": {
   "codemirror_mode": {
    "name": "ipython",
    "version": 3
   },
   "file_extension": ".py",
   "mimetype": "text/x-python",
   "name": "python",
   "nbconvert_exporter": "python",
   "pygments_lexer": "ipython3",
   "version": "3.8.5"
  },
  "toc": {
   "base_numbering": 1,
   "nav_menu": {},
   "number_sections": true,
   "sideBar": true,
   "skip_h1_title": false,
   "title_cell": "Table of Contents",
   "title_sidebar": "Contents",
   "toc_cell": false,
   "toc_position": {},
   "toc_section_display": true,
   "toc_window_display": false
  }
 },
 "nbformat": 4,
 "nbformat_minor": 5
}
