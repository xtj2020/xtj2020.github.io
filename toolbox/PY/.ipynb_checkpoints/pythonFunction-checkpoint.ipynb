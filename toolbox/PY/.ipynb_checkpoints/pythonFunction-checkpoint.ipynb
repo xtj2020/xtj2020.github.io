{
 "cells": [
  {
   "cell_type": "code",
   "execution_count": 1,
   "metadata": {},
   "outputs": [],
   "source": [
    "import os\n",
    "import shutil\n",
    "\n",
    "def lenDirFile(img_path):\n",
    "    return len(os.listdir(img_path))\n",
    "    \n",
    "def removeDirFile(img_path):\n",
    "    try:\n",
    "        shutil.rmtree(img_path)\n",
    "    except OSError as e:\n",
    "        print (\"Error: %s - %s.\" % (e.filename, e.strerror))\n",
    "    os.mkdir(img_path)\n",
    "    print(\"\\n 文件列表：\",os.listdir(img_path),\"\\n 文件个数：\",lenDirFile(img_path)) "
   ]
  },
  {
   "cell_type": "code",
   "execution_count": 2,
   "metadata": {},
   "outputs": [],
   "source": [
    "# removeDirFile(\"../xtjdata/RF2021/Training_Set/classedPiexl/1424/\")\n",
    "# removeDirFile(test_path)\n",
    "# removeDirFile(normal_train_path)\n",
    "# removeDirFile(unnormal_train_path)\n",
    "# removeDirFile(normal_valid_path)\n",
    "# removeDirFile(unnormal_valid_path)\n",
    "# removeDirFile(\"../xtjdata/small-RF/originData/\")\n",
    "\n",
    "# #清空分类图片的主函数    \n",
    "# for i in [\"1424\",\"2848\",\"1536\"]:\n",
    "#     print(removeDirFile(conf.classedImg+i+\"/\"))\n",
    "\n",
    "# len_dir(test_path)\n",
    "# len_dir(normal_train_path)\n",
    "# len_dir(unnormal_train_path)\n",
    "# len_dir(normal_valid_path)\n",
    "# len_dir(unnormal_valid_path)\n",
    "\n",
    "# #获取分类图片个数的主函数\n",
    "# for i in [\"1424\",\"2848\",\"1536\"]:\n",
    "#     print(lenDirFile(conf.classedImg+i+\"/\"))"
   ]
  }
 ],
 "metadata": {
  "hide_input": false,
  "kernelspec": {
   "display_name": "Python 3",
   "language": "python",
   "name": "python3"
  },
  "language_info": {
   "codemirror_mode": {
    "name": "ipython",
    "version": 3
   },
   "file_extension": ".py",
   "mimetype": "text/x-python",
   "name": "python",
   "nbconvert_exporter": "python",
   "pygments_lexer": "ipython3",
   "version": "3.7.9"
  },
  "toc": {
   "base_numbering": 1,
   "nav_menu": {},
   "number_sections": true,
   "sideBar": true,
   "skip_h1_title": false,
   "title_cell": "Table of Contents",
   "title_sidebar": "Contents",
   "toc_cell": false,
   "toc_position": {},
   "toc_section_display": true,
   "toc_window_display": false
  }
 },
 "nbformat": 4,
 "nbformat_minor": 4
}
