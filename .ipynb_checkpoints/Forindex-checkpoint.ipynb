{
 "cells": [
  {
   "cell_type": "markdown",
   "metadata": {},
   "source": [
    "a= r\"\"\"{\"异常值\": [\"异常判别方法\",\"异常数据的处理方法\"]} \\\n",
    "{\"异常判别方法\":[\"异常值\",\"3$\\sigma$原则\",\"肖维勒准则\", \"格拉布斯\",\"狄克逊准则\",\"t检验\",\"箱型图分析\"]}\n",
    "{\"异常数据的处理方法\":[什么是哑变量\",在什么情况下用哑变量\",EM算法]}\n",
    "\n",
    "{\"神经网络\": [\"常用激活函数\",\"损失函数\",\"优化方法\",\"欠拟合与过拟合\"]} \\\n",
    "{\"常用激活函数\":[\"sigmoid  \",\"Tanh \",\"ReLU \",\" ELU \",\" PReLU \"]}\n",
    "{\"损失函数\":[\"0-1损失\" , \"L1损失\" , \"L2损失\" , \"指数损失\" ,\"Hinge损失\", \"交叉熵损失\" ]}\n",
    "{\"欠拟合与过拟合\":[\"欠拟合定义\", \"过拟合定义\",\"欠拟合原因\",\"过拟合原因\",\"欠拟合处理方法\" ,\"过拟合处理方法\"]}\n",
    "{\"神经网络结构\":[\"输入层\",\"卷积层\" ,\"池化层\" , \"全连接层\", \"Softmax层\"]}\n",
    "\n",
    "{\"灰色预测\":[\"GM(1,1)定义\" ,\"GM(1,1)适用条件\", \"建模过程\" ,\"适用场合\", \"Verhulst模型基本思想\" , \"建模过程\" ,\"适用场合\"]}\"\"\""
   ]
  },
  {
   "cell_type": "markdown",
   "metadata": {},
   "source": [
    "记忆点\n",
    "1\t2\t3\t4\t5\t6\t7\n",
    "随机变量的定义\t常见的离散型分布\t\t\t\t\t\n",
    "1\t2\t3\t4\t5\t6\t7\n",
    "联合分布函数\t证明某种分布\t边缘分布\t山洞公式\t条件密度函数\t\t\n",
    "$\\xi_1 + \\xi_2$的分布函数\t2.3\t相互独立随机变量\t\t\t\t\n",
    "1\t2\t3\t4\t5\t6\t7\n",
    "弱大数定理\t切比雪夫大数定理\t大数定理\t辛钦大数定理\t强大数定理\t泊松大数定理\t伯努力大数定理\n",
    "|"
   ]
  },
  {
   "cell_type": "markdown",
   "metadata": {},
   "source": [
    "https://blog.csdn.net/weixin_38168620/article/details/80071141?utm_medium=distribute.pc_relevant_bbs_down.none-task-blog-baidujs-1.nonecase&depth_1-utm_source=distribute.pc_relevant_bbs_down.none-task-blog-baidujs-1.nonecase"
   ]
  }
 ],
 "metadata": {
  "hide_input": false,
  "kernelspec": {
   "display_name": "Python [conda env:notebook] *",
   "language": "python",
   "name": "conda-env-notebook-py"
  },
  "language_info": {
   "codemirror_mode": {
    "name": "ipython",
    "version": 3
   },
   "file_extension": ".py",
   "mimetype": "text/x-python",
   "name": "python",
   "nbconvert_exporter": "python",
   "pygments_lexer": "ipython3",
   "version": "3.7.9"
  },
  "toc": {
   "base_numbering": 1,
   "nav_menu": {},
   "number_sections": true,
   "sideBar": true,
   "skip_h1_title": false,
   "title_cell": "Table of Contents",
   "title_sidebar": "Contents",
   "toc_cell": false,
   "toc_position": {},
   "toc_section_display": true,
   "toc_window_display": false
  }
 },
 "nbformat": 4,
 "nbformat_minor": 4
}
