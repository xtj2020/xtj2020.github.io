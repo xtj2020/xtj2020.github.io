{
 "cells": [
  {
   "cell_type": "code",
   "execution_count": null,
   "metadata": {},
   "outputs": [],
   "source": [
    "import os \n",
    "nblist = []\n",
    "for i in os.listdir():\n",
    "    if i.startswith(\".\"):\n",
    "        pass\n",
    "    elif i.startswith(\"self.ipynb\"):\n",
    "        pass\n",
    "    else:\n",
    "        head = \"http://172.16.47.92:8888/notebooks/domain/\"\n",
    "        i = head + i \n",
    "        nblist.append(i)\n",
    "        print(i)"
   ]
  },
  {
   "cell_type": "code",
   "execution_count": null,
   "metadata": {},
   "outputs": [],
   "source": [
    "- 用python发送IFTT信息\n",
    "\n",
    "https://pythondict.com/life-intelligent/tools/python-send-notification-ifttt/\n",
    "\n",
    "- 逻辑推断题游戏\n",
    "https://wenku.baidu.com/view/3694675d6ad97f192279168884868762caaebbb5.html\n",
    "\n",
    "- 文件系统的构建"
   ]
  },
  {
   "cell_type": "code",
   "execution_count": null,
   "metadata": {},
   "outputs": [],
   "source": [
    "import os \n",
    "# https://xtj2020.top/toolbox/PT/pytorchAPI.html\n",
    "# a = \"https://xtj2020.top/toolbox/PT/1/pytorchAPI.txt\"\n",
    "def make_file(newFilePath):\n",
    "    headPath = \"/Users/xtj2020/notebook/xtj2020.github.io/\"\n",
    "    b = newFilePath.split(\"top/\")\n",
    "    NoHtml_file_path = b[1].split(\".html\")\n",
    "    file_path = headPath+NoHtml_file_path[0]+\".md\"\n",
    "    file = open(file_path,'w')\n",
    "    file.close()\n",
    "    print(\"done!\")\n",
    "    \n",
    "def PicFile(newFilePath):\n",
    "    headPath = \"/Users/xtj2020/notebook/xtj2020.github.io/\"\n",
    "    b = newFilePath.split(\"top/\")\n",
    "    NoHtml_file_path = b[1].split(\".html\")\n",
    "    file_path = headPath+NoHtml_file_path[0]+\".assets\"\n",
    "    file = open(file_path,'w')\n",
    "    file.close()\n",
    "    print(\"done!\")"
   ]
  },
  {
   "cell_type": "code",
   "execution_count": null,
   "metadata": {},
   "outputs": [],
   "source": [
    "make_file(\"https://xtj2020.top/stone/DM/FasterRCNN.html\")"
   ]
  },
  {
   "cell_type": "code",
   "execution_count": null,
   "metadata": {},
   "outputs": [],
   "source": [
    "os.mkdir(\"/Users/xtj2020/notebook/xtj2020.github.io/\")"
   ]
  },
  {
   "cell_type": "code",
   "execution_count": null,
   "metadata": {},
   "outputs": [],
   "source": [
    "import os \n",
    "nblist = []\n",
    "for i in os.listdir():\n",
    "    if i.startswith(\".\"):\n",
    "        pass\n",
    "    elif i.startswith(\"self.ipynb\"):\n",
    "        pass\n",
    "    else:\n",
    "        head = \"http://172.16.47.92:8888/notebooks/domain/\"\n",
    "        i = head + i \n",
    "        nblist.append(i)\n",
    "        print(i)"
   ]
  },
  {
   "cell_type": "code",
   "execution_count": null,
   "metadata": {},
   "outputs": [],
   "source": [
    "def send_notice(event_name, key, text1,text2,text3):\n",
    "    url = \"https://maker.ifttt.com/trigger/\"+event_name+\"/with/key/\"+key+\"\"\n",
    "    payload = \"{\\n    \\\"value1\\\": \\\"\"+text1+\"\\\"\\n,\\n    \\\"value2\\\": \\\"\"+text2+\"\\\"\\n,\\n    \\\"value3\\\": \\\"\"+text3+\"\\\"\\n,\\n    \\\"value4\\\": \\\"\"+text4+\"\\\"\\n}\"\n",
    "    headers = {\n",
    "    'Content-Type': \"application/json\",\n",
    "    'User-Agent': \"PostmanRuntime/7.15.0\",\n",
    "    'Accept': \"*/*\",\n",
    "    'Cache-Control': \"no-cache\",\n",
    "    'Postman-Token': \"a9477d0f-08ee-4960-b6f8-9fd85dc0d5cc,d376ec80-54e1-450a-8215-952ea91b01dd\",\n",
    "    'Host': \"maker.ifttt.com\",\n",
    "    'accept-encoding': \"gzip, deflate\",\n",
    "    'content-length': \"63\",\n",
    "    'Connection': \"keep-alive\",\n",
    "    'cache-control': \"no-cache\"\n",
    "    }\n",
    " \n",
    "    response = requests.request(\"POST\", url, data=payload.encode('utf-8'), headers=headers)\n",
    "    print(response.text)\n",
    " \n"
   ]
  },
  {
   "cell_type": "code",
   "execution_count": null,
   "metadata": {},
   "outputs": [],
   "source": [
    "## 发送通知\n",
    "https://maker.ifttt.com/trigger/{event}/with/key/_TP0Q1i2kd80ZhO9Cn9Hr\n",
    "    { \"value1\" : \"\", \"value2\" : \"\", \"value3\" : \"\" }"
   ]
  },
  {
   "cell_type": "code",
   "execution_count": null,
   "metadata": {},
   "outputs": [],
   "source": [
    "import requests\n",
    "\n",
    "text1 = \"数据加载器的理解与应用 \"\n",
    "text2 = \"数据统计分析\"\n",
    "text3 = \"实现二分类网络\"\n",
    "send_notice('notice_phone', '_TP0Q1i2kd80ZhO9Cn9Hr', text1,text2,text3)"
   ]
  },
  {
   "cell_type": "markdown",
   "metadata": {},
   "source": [
    "# 加载webimg文件"
   ]
  },
  {
   "cell_type": "code",
   "execution_count": 1,
   "metadata": {},
   "outputs": [],
   "source": [
    "import os"
   ]
  },
  {
   "cell_type": "code",
   "execution_count": 9,
   "metadata": {},
   "outputs": [],
   "source": [
    "j = \"https://xtj2020.top/webimg/LaTex/\"\n",
    "new_list = []\n",
    "with open(\"./webimg/LaTex/test.txt\",\"a\") as f:\n",
    "    for i in os.listdir(\"./webimg/LaTex/\"):\n",
    "        f.write(j+i)"
   ]
  }
 ],
 "metadata": {
  "hide_input": false,
  "kernelspec": {
   "display_name": "Python 3",
   "language": "python",
   "name": "python3"
  },
  "language_info": {
   "codemirror_mode": {
    "name": "ipython",
    "version": 3
   },
   "file_extension": ".py",
   "mimetype": "text/x-python",
   "name": "python",
   "nbconvert_exporter": "python",
   "pygments_lexer": "ipython3",
   "version": "3.8.0"
  },
  "toc": {
   "base_numbering": 1,
   "nav_menu": {},
   "number_sections": true,
   "sideBar": true,
   "skip_h1_title": false,
   "title_cell": "Table of Contents",
   "title_sidebar": "Contents",
   "toc_cell": false,
   "toc_position": {},
   "toc_section_display": true,
   "toc_window_display": false
  }
 },
 "nbformat": 4,
 "nbformat_minor": 4
}
