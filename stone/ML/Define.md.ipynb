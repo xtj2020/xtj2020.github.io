{
 "cells": [
  {
   "cell_type": "markdown",
   "id": "going-filing",
   "metadata": {},
   "source": [
    "# 基本概念\n",
    "\n",
    "\n",
    "### 数据集的概念\n",
    "data set:\n",
    "instance/sample:\n",
    "attribute value:\n",
    "\n",
    "\n",
    "\n",
    "### 数据集的样本表示：\n",
    "\n",
    "### 训练\n",
    "从样本中学习到模型的过程称为“学习”或“训练”。所使用的数据称为train data， \n",
    "\n",
    "\n",
    "任务类型：\n"
   ]
  }
 ],
 "metadata": {
  "kernelspec": {
   "display_name": "Python [conda env:notebook] *",
   "language": "python",
   "name": "conda-env-notebook-py"
  },
  "language_info": {
   "codemirror_mode": {
    "name": "ipython",
    "version": 3
   },
   "file_extension": ".py",
   "mimetype": "text/x-python",
   "name": "python",
   "nbconvert_exporter": "python",
   "pygments_lexer": "ipython3",
   "version": "3.8.5"
  },
  "toc": {
   "base_numbering": 1,
   "nav_menu": {},
   "number_sections": true,
   "sideBar": true,
   "skip_h1_title": false,
   "title_cell": "Table of Contents",
   "title_sidebar": "Contents",
   "toc_cell": false,
   "toc_position": {},
   "toc_section_display": true,
   "toc_window_display": false
  }
 },
 "nbformat": 4,
 "nbformat_minor": 5
}
