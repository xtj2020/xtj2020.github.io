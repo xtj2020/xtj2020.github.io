{
 "cells": [
  {
   "cell_type": "code",
   "execution_count": 1,
   "metadata": {},
   "outputs": [],
   "source": [
    "import os\n"
   ]
  },
  {
   "cell_type": "code",
   "execution_count": 4,
   "metadata": {},
   "outputs": [
    {
     "data": {
      "text/plain": [
       "['.DS_Store',\n",
       " 'ut.js',\n",
       " 'CNAME',\n",
       " 'Untitled.ipynb',\n",
       " 'frame',\n",
       " 'index.md',\n",
       " 'toolbox',\n",
       " '.stackedit-trash',\n",
       " 'stone',\n",
       " '.ipynb_checkpoints',\n",
       " '_conig.yml',\n",
       " '.git',\n",
       " '引用js.txt']"
      ]
     },
     "execution_count": 4,
     "metadata": {},
     "output_type": "execute_result"
    }
   ],
   "source": [
    "toobox:[DL,PT,PY,DA,PC]"
   ]
  },
  {
   "cell_type": "markdown",
   "metadata": {},
   "source": [
    "第一种类型是标量scalar，也就是一个单独的字符串string或数字numbers，比如“成都”这个单独的词。\n",
    "\n",
    "第二种类型是序列sequence，也就是若干个相关的数据按照一定顺序并列在一起，又叫做数组array，或者列表list，比如“成都，重庆”。\n",
    "\n",
    "第三种类型是映射mapping，也就是一个名/值name/value，即数据有一个名称，还有一个与之相对应的值，这又称作散列hash或字典dictionary，比如“蓉城：成都”。\n",
    "\n",
    "\n",
    "1.并列的数据之间用逗号(,)分隔\n",
    "\n",
    "2.映射用冒号(:)表示\n",
    "\n",
    "3.并列数据的集合(数组)用方括号([])表示\n",
    "\n",
    "4.映射的集合(对象)用大括号({})表示\n",
    "\n",
    "以上四条规则，就是json格式的所有内容。\n",
    "\n",
    "作者：无敌大灰狼me\n",
    "链接：https://www.jianshu.com/p/986701acb442\n",
    "来源：简书\n",
    "著作权归作者所有。商业转载请联系作者获得授权，非商业转载请注明出处。"
   ]
  }
 ],
 "metadata": {
  "hide_input": false,
  "kernelspec": {
   "display_name": "Python [conda env:notebook] *",
   "language": "python",
   "name": "conda-env-notebook-py"
  },
  "language_info": {
   "codemirror_mode": {
    "name": "ipython",
    "version": 3
   },
   "file_extension": ".py",
   "mimetype": "text/x-python",
   "name": "python",
   "nbconvert_exporter": "python",
   "pygments_lexer": "ipython3",
   "version": "3.7.9"
  },
  "toc": {
   "base_numbering": 1,
   "nav_menu": {},
   "number_sections": true,
   "sideBar": true,
   "skip_h1_title": false,
   "title_cell": "Table of Contents",
   "title_sidebar": "Contents",
   "toc_cell": false,
   "toc_position": {},
   "toc_section_display": true,
   "toc_window_display": false
  }
 },
 "nbformat": 4,
 "nbformat_minor": 4
}
